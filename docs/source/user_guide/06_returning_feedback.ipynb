{
 "cells": [
  {
   "cell_type": "markdown",
   "metadata": {},
   "source": [
    "# Returning feedback to students"
   ]
  },
  {
   "cell_type": "raw",
   "metadata": {},
   "source": [
    ".. seealso::\n",
    "\n",
    "    :doc:`/command_line_tools/nbgrader-feedback`\n",
    "        Command line options for ``nbgrader feedback``\n",
    "        \n",
    "    :doc:`01_philosophy`\n",
    "        Details about how the directory hierarchy is structured"
   ]
  },
  {
   "cell_type": "raw",
   "metadata": {},
   "source": [
    "After assignments have been autograded and/or manually graded, they will located in the `autograded` directory (see :doc:`01_philosophy` for details):"
   ]
  },
  {
   "cell_type": "markdown",
   "metadata": {},
   "source": [
    "```\n",
    "autograded/{student_id}/{assignment_id}/{notebook_id}.ipynb\n",
    "```\n",
    "\n",
    "After running `nbgrader feedback`, HTML versions of these notebooks will be saved to:\n",
    "\n",
    "```\n",
    "feedback/{student_id}/{assignment_id}/{notebook_id}.html\n",
    "```"
   ]
  },
  {
   "cell_type": "markdown",
   "metadata": {},
   "source": [
    "## Example"
   ]
  },
  {
   "cell_type": "markdown",
   "metadata": {},
   "source": [
    "In the following example, we have an assignment with two notebooks. There are two submissions of the assignment that have been graded:\n",
    "\n",
    "Autograded submission 1:\n",
    "\n",
    "* [autograded/Bitdiddle/Problem Set 1/Problem 1.ipynb](autograded/Bitdiddle/Problem Set 1/Problem 1.ipynb)\n",
    "* [autograded/Bitdiddle/Problem Set 1/Problem 2.ipynb](autograded/Bitdiddle/Problem Set 1/Problem 2.ipynb)\n",
    "\n",
    "Autograded submission 2:\n",
    "\n",
    "* [autograded/Hacker/Problem Set 1/Problem 1.ipynb](autograded/Hacker/Problem Set 1/Problem 1.ipynb)\n",
    "* [autograded/Hacker/Problem Set 1/Problem 2.ipynb](autograded/Hacker/Problem Set 1/Problem 2.ipynb)"
   ]
  },
  {
   "cell_type": "markdown",
   "metadata": {},
   "source": [
    "Generating feedback is fairly straigtforward:"
   ]
  },
  {
   "cell_type": "code",
   "execution_count": 1,
   "metadata": {
    "collapsed": false
   },
   "outputs": [
    {
     "name": "stderr",
     "output_type": "stream",
     "text": [
      "[FeedbackApp | INFO] Linking autograded/Bitdiddle/Problem Set 1/jupyter.png -> feedback/Bitdiddle/Problem Set 1/jupyter.png\n",
      "[FeedbackApp | INFO] Linking autograded/Bitdiddle/Problem Set 1/timestamp.txt -> feedback/Bitdiddle/Problem Set 1/timestamp.txt\n",
      "[FeedbackApp | INFO] Converting notebook autograded/Bitdiddle/Problem Set 1/Problem 1.ipynb to html\n",
      "[FeedbackApp | INFO] Writing 229451 bytes to feedback/Bitdiddle/Problem Set 1/Problem 1.html\n",
      "[FeedbackApp | INFO] Converting notebook autograded/Bitdiddle/Problem Set 1/Problem 2.ipynb to html\n",
      "[FeedbackApp | INFO] Writing 201020 bytes to feedback/Bitdiddle/Problem Set 1/Problem 2.html\n",
      "[FeedbackApp | INFO] Setting destination file permissions to 444\n",
      "[FeedbackApp | INFO] Linking autograded/Hacker/Problem Set 1/jupyter.png -> feedback/Hacker/Problem Set 1/jupyter.png\n",
      "[FeedbackApp | INFO] Linking autograded/Hacker/Problem Set 1/timestamp.txt -> feedback/Hacker/Problem Set 1/timestamp.txt\n",
      "[FeedbackApp | INFO] Converting notebook autograded/Hacker/Problem Set 1/Problem 1.ipynb to html\n",
      "[FeedbackApp | INFO] Writing 218121 bytes to feedback/Hacker/Problem Set 1/Problem 1.html\n",
      "[FeedbackApp | INFO] Converting notebook autograded/Hacker/Problem Set 1/Problem 2.ipynb to html\n",
      "[FeedbackApp | INFO] Writing 201150 bytes to feedback/Hacker/Problem Set 1/Problem 2.html\n",
      "[FeedbackApp | INFO] Setting destination file permissions to 444\n"
     ]
    }
   ],
   "source": [
    "%%bash\n",
    "\n",
    "nbgrader feedback \"Problem Set 1\""
   ]
  },
  {
   "cell_type": "markdown",
   "metadata": {},
   "source": [
    "Once the feedback has been generated, there will be new directories and HTML files corresponding to each notebook in each submission:\n",
    "\n",
    "Feedback for submission 1:\n",
    "\n",
    "* [feedback/Bitdiddle/Problem Set 1/Problem 1.html](feedback/Bitdiddle/Problem Set 1/Problem 1.html)\n",
    "* [feedback/Bitdiddle/Problem Set 1/Problem 2.html](feedback/Bitdiddle/Problem Set 1/Problem 2.html)\n",
    "\n",
    "Feedback for submission 2:\n",
    "\n",
    "* [feedback/Hacker/Problem Set 1/Problem 1.html](feedback/Hacker/Problem Set 1/Problem 1.html)\n",
    "* [feedback/Hacker/Problem Set 1/Problem 2.html](feedback/Hacker/Problem Set 1/Problem 2.html)"
   ]
  }
 ],
 "metadata": {},
 "nbformat": 4,
 "nbformat_minor": 0
}