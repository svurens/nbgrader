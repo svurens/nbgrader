{
 "cells": [
  {
   "cell_type": "markdown",
   "metadata": {},
   "source": [
    "# Fetching assignments"
   ]
  },
  {
   "cell_type": "raw",
   "metadata": {},
   "source": [
    ".. seealso::\n",
    "\n",
    "    :doc:`/command_line_tools/nbgrader-fetch`\n",
    "        Command line options for ``nbgrader fetch``\n",
    "\n",
    "    :doc:`/command_line_tools/nbgrader-list`\n",
    "        Command line options for ``nbgrader list``"
   ]
  },
  {
   "cell_type": "markdown",
   "metadata": {},
   "source": [
    "From the student's perspective, they can list what assignments have been released, and then fetch a copy of the assignment to work on. First, we'll create a temporary directory to represent the student's home directory:"
   ]
  },
  {
   "cell_type": "code",
   "execution_count": 1,
   "metadata": {
    "collapsed": false
   },
   "outputs": [],
   "source": [
    "%%bash\n",
    "\n",
    "# remove the fake student home directory if it exists, for demo purposes\n",
    "rm -rf /tmp/student_home\n",
    "\n",
    "# create the fake student home directory and switch to it\n",
    "mkdir /tmp/student_home"
   ]
  },
  {
   "cell_type": "markdown",
   "metadata": {},
   "source": [
    "If you are not using the default exchange directory (as is the case here), you will additionally need to provide your students with a configuration file that sets the appropriate directory for them:"
   ]
  },
  {
   "cell_type": "code",
   "execution_count": 2,
   "metadata": {
    "collapsed": false
   },
   "outputs": [
    {
     "name": "stdout",
     "output_type": "stream",
     "text": [
      "Writing /tmp/student_home/nbgrader_config.py\n"
     ]
    }
   ],
   "source": [
    "%%file /tmp/student_home/nbgrader_config.py\n",
    "\n",
    "c = get_config()\n",
    "c.TransferApp.exchange_directory = '/tmp/exchange'"
   ]
  },
  {
   "cell_type": "markdown",
   "metadata": {},
   "source": [
    "From the student's perspective, they can see what assignments have been released using `nbgrader list`, and passing the name of the class:"
   ]
  },
  {
   "cell_type": "code",
   "execution_count": 3,
   "metadata": {
    "collapsed": false,
    "scrolled": true
   },
   "outputs": [
    {
     "name": "stderr",
     "output_type": "stream",
     "text": [
      "[ListApp | INFO] Created profile dir: '/tmp/student_home/.ipython/profile_nbgrader'\n",
      "[ListApp | INFO] Released assignments:\n",
      "[ListApp | INFO] example_course Problem Set 1\n"
     ]
    }
   ],
   "source": [
    "%%bash\n",
    "export HOME=/tmp/student_home && cd $HOME\n",
    "\n",
    "nbgrader list \"example_course\""
   ]
  },
  {
   "cell_type": "markdown",
   "metadata": {},
   "source": [
    "They can then fetch an assignment for that class using `nbgrader fetch` and passing the name of the class and the name of the assignment:"
   ]
  },
  {
   "cell_type": "code",
   "execution_count": 4,
   "metadata": {
    "collapsed": false
   },
   "outputs": [
    {
     "name": "stderr",
     "output_type": "stream",
     "text": [
      "[FetchApp | INFO] Source: /tmp/exchange/example_course/outbound/Problem Set 1\n",
      "[FetchApp | INFO] Destination: /tmp/student_home/Problem Set 1\n",
      "[FetchApp | INFO] Fetched as: example_course Problem Set 1\n"
     ]
    }
   ],
   "source": [
    "%%bash\n",
    "export HOME=/tmp/student_home && cd $HOME\n",
    "\n",
    "nbgrader fetch \"example_course\" \"Problem Set 1\""
   ]
  },
  {
   "cell_type": "markdown",
   "metadata": {},
   "source": [
    "Running `nbgrader fetch` copies the assignment files from the exchange directory to the local directory:"
   ]
  },
  {
   "cell_type": "code",
   "execution_count": 5,
   "metadata": {
    "collapsed": false
   },
   "outputs": [
    {
     "name": "stdout",
     "output_type": "stream",
     "text": [
      "total 20\n",
      "-r--r--r-- 1 travis travis 5733 Jul 12 16:01 jupyter.png\n",
      "-rw-r--r-- 1 travis travis 8082 Jul 12 16:01 Problem 1.ipynb\n",
      "-rw-r--r-- 1 travis travis 2517 Jul 12 16:01 Problem 2.ipynb\n"
     ]
    }
   ],
   "source": [
    "%%bash\n",
    "\n",
    "ls -l \"/tmp/student_home/Problem Set 1\""
   ]
  }
 ],
 "metadata": {},
 "nbformat": 4,
 "nbformat_minor": 0
}