{
 "cells": [
  {
   "cell_type": "markdown",
   "metadata": {},
   "source": [
    "# Submitting assignments"
   ]
  },
  {
   "cell_type": "raw",
   "metadata": {},
   "source": [
    ".. seealso::\n",
    "\n",
    "    :doc:`/command_line_tools/nbgrader-submit`\n",
    "        Command line options for ``nbgrader fetch``\n",
    "\n",
    "    :doc:`/command_line_tools/nbgrader-list`\n",
    "        Command line options for ``nbgrader list``"
   ]
  },
  {
   "cell_type": "markdown",
   "metadata": {},
   "source": [
    "After working on an assignment, the student can submit their version for grading using `nbgrader submit` and passing the name of the assignment and the name of the class:"
   ]
  },
  {
   "cell_type": "code",
   "execution_count": 1,
   "metadata": {
    "collapsed": false
   },
   "outputs": [
    {
     "name": "stderr",
     "output_type": "stream",
     "text": [
      "[SubmitApp | INFO] Source: /tmp/student_home/Problem Set 1\n",
      "[SubmitApp | INFO] Destination: /tmp/exchange/example_course/inbound/travis+Problem Set 1+2015-07-12 05:59:39 UTC\n",
      "[SubmitApp | INFO] Submitted as: example_course Problem Set 1 2015-07-12 05:59:39 UTC\n"
     ]
    }
   ],
   "source": [
    "%%bash\n",
    "export HOME=/tmp/student_home && cd $HOME\n",
    "\n",
    "nbgrader submit \"Problem Set 1\" \"example_course\""
   ]
  },
  {
   "cell_type": "markdown",
   "metadata": {},
   "source": [
    "Students can see what assignments they have submitted using `nbgrader list --inbound`:"
   ]
  },
  {
   "cell_type": "code",
   "execution_count": 2,
   "metadata": {
    "collapsed": false,
    "scrolled": true
   },
   "outputs": [
    {
     "name": "stderr",
     "output_type": "stream",
     "text": [
      "[ListApp | INFO] Submitted assignments:\n",
      "[ListApp | INFO] example_course travis Problem Set 1 2015-07-12 05:59:39 UTC\n"
     ]
    }
   ],
   "source": [
    "%%bash\n",
    "export HOME=/tmp/student_home && cd $HOME\n",
    "\n",
    "nbgrader list \"example_course\" --inbound"
   ]
  },
  {
   "cell_type": "markdown",
   "metadata": {},
   "source": [
    "Importantly, students can run `nbgrader submit` as many times as they want, and all submitted copies of the assignment will be preserved:"
   ]
  },
  {
   "cell_type": "code",
   "execution_count": 3,
   "metadata": {
    "collapsed": false
   },
   "outputs": [
    {
     "name": "stderr",
     "output_type": "stream",
     "text": [
      "[SubmitApp | INFO] Source: /tmp/student_home/Problem Set 1\n",
      "[SubmitApp | INFO] Destination: /tmp/exchange/example_course/inbound/travis+Problem Set 1+2015-07-12 05:59:42 UTC\n",
      "[SubmitApp | INFO] Submitted as: example_course Problem Set 1 2015-07-12 05:59:42 UTC\n"
     ]
    }
   ],
   "source": [
    "%%bash\n",
    "export HOME=/tmp/student_home && cd $HOME\n",
    "\n",
    "nbgrader submit \"Problem Set 1\" \"example_course\""
   ]
  },
  {
   "cell_type": "markdown",
   "metadata": {},
   "source": [
    "We can see all versions that have been submitted by again running `nbgrader list --inbound`:"
   ]
  },
  {
   "cell_type": "code",
   "execution_count": 4,
   "metadata": {
    "collapsed": false,
    "scrolled": true
   },
   "outputs": [
    {
     "name": "stderr",
     "output_type": "stream",
     "text": [
      "[ListApp | INFO] Submitted assignments:\n",
      "[ListApp | INFO] example_course travis Problem Set 1 2015-07-12 05:59:39 UTC\n",
      "[ListApp | INFO] example_course travis Problem Set 1 2015-07-12 05:59:42 UTC\n"
     ]
    }
   ],
   "source": [
    "%%bash\n",
    "export HOME=/tmp/student_home && cd $HOME\n",
    "\n",
    "nbgrader list \"example_course\" --inbound"
   ]
  }
 ],
 "metadata": {},
 "nbformat": 4,
 "nbformat_minor": 0
}